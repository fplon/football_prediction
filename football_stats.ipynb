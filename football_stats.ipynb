{
 "cells": [
  {
   "cell_type": "markdown",
   "metadata": {},
   "source": [
    "# Football Statistics Task\n",
    "\n",
    "_Finlay O'Neill_\n",
    "\n",
    "\n",
    "Objectives:\n",
    "1. A statistical analysis of the data, including quality assessments \n",
    "2. Visualisations that help the narrative\n",
    "3. Attempts at predicting winners of a competition"
   ]
  },
  {
   "cell_type": "markdown",
   "metadata": {},
   "source": [
    "## Import libraries"
   ]
  },
  {
   "cell_type": "code",
   "execution_count": 219,
   "metadata": {},
   "outputs": [],
   "source": [
    "import json\n",
    "import requests\n",
    "import pandas as pd\n",
    "import numpy as np\n",
    "import matplotlib.pyplot as plt\n",
    "from datetime import datetime\n",
    "\n",
    "from sklearn.model_selection import GridSearchCV, train_test_split\n",
    "from sklearn.preprocessing import MinMaxScaler\n",
    "from sklearn.linear_model import LogisticRegression\n",
    "from sklearn.feature_selection import RFE\n",
    "from sklearn.metrics import confusion_matrix, accuracy_score, precision_score, recall_score"
   ]
  },
  {
   "cell_type": "markdown",
   "metadata": {},
   "source": [
    "## Import the competition matches data from GitHub\n",
    "\n",
    "[Link to Data](https://github.com/statsbomb/open-data/tree/master/data/matches/11)\n"
   ]
  },
  {
   "cell_type": "code",
   "execution_count": 220,
   "metadata": {},
   "outputs": [],
   "source": [
    "file_n = [1,2,4,21,22,23,24,25,26,27,37,38,39,40,41,42]\n",
    "matches = []\n",
    "\n",
    "for n in file_n:\n",
    "    \n",
    "    url = f'https://raw.githubusercontent.com/statsbomb/open-data/master/data/matches/11/{n}.json'\n",
    "    response = requests.get(url)\n",
    "    data = json.loads(response.text)\n",
    "    matches.extend(data)"
   ]
  },
  {
   "cell_type": "markdown",
   "metadata": {},
   "source": [
    "## Data Analysis\n",
    "\n",
    "See how many observations there are.\n",
    "\n",
    "Look at the first element in the `matches` list to have a look at the structure, keys and values."
   ]
  },
  {
   "cell_type": "code",
   "execution_count": 221,
   "metadata": {},
   "outputs": [
    {
     "data": {
      "text/plain": [
       "485"
      ]
     },
     "execution_count": 221,
     "metadata": {},
     "output_type": "execute_result"
    }
   ],
   "source": [
    "len(matches)"
   ]
  },
  {
   "cell_type": "code",
   "execution_count": 222,
   "metadata": {},
   "outputs": [
    {
     "data": {
      "text/plain": [
       "{'match_id': 9592,\n",
       " 'match_date': '2017-09-09',\n",
       " 'kick_off': '20:45:00.000',\n",
       " 'competition': {'competition_id': 11,\n",
       "  'country_name': 'Spain',\n",
       "  'competition_name': 'La Liga'},\n",
       " 'season': {'season_id': 1, 'season_name': '2017/2018'},\n",
       " 'home_team': {'home_team_id': 217,\n",
       "  'home_team_name': 'Barcelona',\n",
       "  'home_team_gender': 'male',\n",
       "  'home_team_group': None,\n",
       "  'country': {'id': 214, 'name': 'Spain'},\n",
       "  'managers': [{'id': 227,\n",
       "    'name': 'Ernesto Valverde Tejedor',\n",
       "    'nickname': 'Ernesto Valverde',\n",
       "    'dob': None,\n",
       "    'country': {'id': 214, 'name': 'Spain'}}]},\n",
       " 'away_team': {'away_team_id': 214,\n",
       "  'away_team_name': 'Espanyol',\n",
       "  'away_team_gender': 'male',\n",
       "  'away_team_group': None,\n",
       "  'country': {'id': 214, 'name': 'Spain'},\n",
       "  'managers': [{'id': 236,\n",
       "    'name': 'Enrique Sánchez Flores',\n",
       "    'nickname': 'Quique Sánchez Flores',\n",
       "    'dob': None,\n",
       "    'country': {'id': 214, 'name': 'Spain'}}]},\n",
       " 'home_score': 5,\n",
       " 'away_score': 0,\n",
       " 'match_status': 'available',\n",
       " 'last_updated': '2020-07-29T05:00',\n",
       " 'metadata': {'data_version': '1.1.0', 'shot_fidelity_version': '2'},\n",
       " 'match_week': 3,\n",
       " 'competition_stage': {'id': 1, 'name': 'Regular Season'},\n",
       " 'stadium': {'id': 342,\n",
       "  'name': 'Camp Nou',\n",
       "  'country': {'id': 214, 'name': 'Spain'}},\n",
       " 'referee': {'id': 183,\n",
       "  'name': 'Jesús Gil',\n",
       "  'country': {'id': 214, 'name': 'Spain'}}}"
      ]
     },
     "execution_count": 222,
     "metadata": {},
     "output_type": "execute_result"
    }
   ],
   "source": [
    "matches[0]"
   ]
  },
  {
   "cell_type": "markdown",
   "metadata": {},
   "source": [
    "There's some nested structure to the dictionary object, but it looks like it could be flattened so that the data can be converted to a dataframe. There's a mixture of quantitative and categorical data types. \n",
    "\n",
    "Check that only La Liga data and regular season data is being analysed"
   ]
  },
  {
   "cell_type": "code",
   "execution_count": 223,
   "metadata": {},
   "outputs": [
    {
     "data": {
      "text/plain": [
       "{'La Liga'}"
      ]
     },
     "execution_count": 223,
     "metadata": {},
     "output_type": "execute_result"
    }
   ],
   "source": [
    "league_name = [n['competition']['competition_name'] for n in matches]\n",
    "set(league_name)"
   ]
  },
  {
   "cell_type": "code",
   "execution_count": 224,
   "metadata": {},
   "outputs": [
    {
     "data": {
      "text/plain": [
       "{'Regular Season'}"
      ]
     },
     "execution_count": 224,
     "metadata": {},
     "output_type": "execute_result"
    }
   ],
   "source": [
    "competition = [n['competition_stage']['name'] for n in matches]\n",
    "set(competition)"
   ]
  },
  {
   "cell_type": "markdown",
   "metadata": {},
   "source": [
    "## Variable Selection\n",
    "\n",
    "It looks like there are a number of variables that could be useful for predicting the outcome of the football matches. As an initial example, an investigation into whether the winner of a football match can be predicted. This will be performed on the total dataset. \n",
    "\n",
    "The variables of interest are extracted from the `matches` dictionary object and used in the construction of the `matches_df` dataframe object. These are given below. "
   ]
  },
  {
   "cell_type": "code",
   "execution_count": 225,
   "metadata": {},
   "outputs": [],
   "source": [
    "matches_df = pd.DataFrame(\n",
    "    index = [n['match_id'] for n in matches],\n",
    "    data = {\n",
    "        'match_dates': [n['match_date'] for n in matches],\n",
    "        'kick_offs': [n['kick_off'] for n in matches],\n",
    "        'season_names': [n['season']['season_id'] for n in matches],\n",
    "        'home_teams': [n['home_team']['home_team_id'] for n in matches],\n",
    "        # 'home_team_managers': [n['home_team']['managers'][0]['name'] for n in matches],\n",
    "        'away_teams': [n['away_team']['away_team_id'] for n in matches],\n",
    "        # 'away_team_managers':[n['away_team']['managers'][0]['name'] for n in matches],\n",
    "        'home_scores': [n['home_score'] for n in matches],\n",
    "        'away_scores': [n['away_score'] for n in matches],\n",
    "        'match_weeks': [n['match_week'] for n in matches],\n",
    "        # 'stadiums': [n['stadium']['name'] for n in matches],\n",
    "        # 'referees': [n['referee']['name'] for n in matches],\n",
    "    }\n",
    ")\n",
    "\n",
    "matches_df['home_team_wins'] = (matches_df['home_scores'] > matches_df['away_scores']).astype(int)\n",
    "# matches_df['result_draw'] = (matches_df['home_scores'] == matches_df['away_scores']).astype(int)"
   ]
  },
  {
   "cell_type": "markdown",
   "metadata": {},
   "source": [
    "The variables `home_team_managers`, `away_team_managers`, `stadiums` and `referees` appear to have missing values for some of the matches in the data extracted from GitHub. For the purposes of the analysis, they are excluded. \n",
    "\n",
    "The `home_team_wins` feature is engineered and will be used as the target variable to be predicted. \n",
    "\n",
    "Inspecting `matches_df` is useful to inspect the data types and quality."
   ]
  },
  {
   "cell_type": "code",
   "execution_count": 226,
   "metadata": {},
   "outputs": [
    {
     "data": {
      "text/html": [
       "<div>\n",
       "<style scoped>\n",
       "    .dataframe tbody tr th:only-of-type {\n",
       "        vertical-align: middle;\n",
       "    }\n",
       "\n",
       "    .dataframe tbody tr th {\n",
       "        vertical-align: top;\n",
       "    }\n",
       "\n",
       "    .dataframe thead th {\n",
       "        text-align: right;\n",
       "    }\n",
       "</style>\n",
       "<table border=\"1\" class=\"dataframe\">\n",
       "  <thead>\n",
       "    <tr style=\"text-align: right;\">\n",
       "      <th></th>\n",
       "      <th>match_dates</th>\n",
       "      <th>kick_offs</th>\n",
       "      <th>season_names</th>\n",
       "      <th>home_teams</th>\n",
       "      <th>away_teams</th>\n",
       "      <th>home_scores</th>\n",
       "      <th>away_scores</th>\n",
       "      <th>match_weeks</th>\n",
       "      <th>home_team_wins</th>\n",
       "    </tr>\n",
       "  </thead>\n",
       "  <tbody>\n",
       "    <tr>\n",
       "      <td>68353</td>\n",
       "      <td>2004-10-16</td>\n",
       "      <td>22:00:00.000</td>\n",
       "      <td>37</td>\n",
       "      <td>214</td>\n",
       "      <td>217</td>\n",
       "      <td>0</td>\n",
       "      <td>1</td>\n",
       "      <td>7</td>\n",
       "      <td>0</td>\n",
       "    </tr>\n",
       "    <tr>\n",
       "      <td>68313</td>\n",
       "      <td>2004-10-24</td>\n",
       "      <td>21:00:00.000</td>\n",
       "      <td>37</td>\n",
       "      <td>217</td>\n",
       "      <td>422</td>\n",
       "      <td>3</td>\n",
       "      <td>0</td>\n",
       "      <td>8</td>\n",
       "      <td>1</td>\n",
       "    </tr>\n",
       "    <tr>\n",
       "      <td>68314</td>\n",
       "      <td>2004-12-04</td>\n",
       "      <td>20:00:00.000</td>\n",
       "      <td>37</td>\n",
       "      <td>217</td>\n",
       "      <td>223</td>\n",
       "      <td>4</td>\n",
       "      <td>0</td>\n",
       "      <td>14</td>\n",
       "      <td>1</td>\n",
       "    </tr>\n",
       "    <tr>\n",
       "      <td>69153</td>\n",
       "      <td>2004-12-11</td>\n",
       "      <td>20:00:00.000</td>\n",
       "      <td>37</td>\n",
       "      <td>608</td>\n",
       "      <td>217</td>\n",
       "      <td>1</td>\n",
       "      <td>2</td>\n",
       "      <td>15</td>\n",
       "      <td>0</td>\n",
       "    </tr>\n",
       "    <tr>\n",
       "      <td>68315</td>\n",
       "      <td>2004-12-21</td>\n",
       "      <td>20:00:00.000</td>\n",
       "      <td>37</td>\n",
       "      <td>217</td>\n",
       "      <td>221</td>\n",
       "      <td>2</td>\n",
       "      <td>1</td>\n",
       "      <td>17</td>\n",
       "      <td>1</td>\n",
       "    </tr>\n",
       "  </tbody>\n",
       "</table>\n",
       "</div>"
      ],
      "text/plain": [
       "      match_dates     kick_offs  season_names  home_teams  away_teams  \\\n",
       "68353  2004-10-16  22:00:00.000            37         214         217   \n",
       "68313  2004-10-24  21:00:00.000            37         217         422   \n",
       "68314  2004-12-04  20:00:00.000            37         217         223   \n",
       "69153  2004-12-11  20:00:00.000            37         608         217   \n",
       "68315  2004-12-21  20:00:00.000            37         217         221   \n",
       "\n",
       "       home_scores  away_scores  match_weeks  home_team_wins  \n",
       "68353            0            1            7               0  \n",
       "68313            3            0            8               1  \n",
       "68314            4            0           14               1  \n",
       "69153            1            2           15               0  \n",
       "68315            2            1           17               1  "
      ]
     },
     "execution_count": 226,
     "metadata": {},
     "output_type": "execute_result"
    }
   ],
   "source": [
    "matches_df.sort_values('match_dates', inplace = True)\n",
    "matches_df.head()"
   ]
  },
  {
   "cell_type": "markdown",
   "metadata": {},
   "source": [
    "Its also clear that Barcelona are either the home or away team in 100% of the matches. This makes predicting the winner of the league for a given season difficult as there is an incomplete dataset. "
   ]
  },
  {
   "cell_type": "code",
   "execution_count": 229,
   "metadata": {},
   "outputs": [
    {
     "data": {
      "text/plain": [
       "[('Barcelona', 'Espanyol'),\n",
       " ('Barcelona', 'Leganés'),\n",
       " ('Espanyol', 'Barcelona'),\n",
       " ('Barcelona', 'Eibar'),\n",
       " ('Barcelona', 'Celta Vigo'),\n",
       " ('Sevilla', 'Barcelona'),\n",
       " ('Valencia', 'Barcelona'),\n",
       " ('Barcelona', 'Getafe'),\n",
       " ('Villarreal', 'Barcelona'),\n",
       " ('Girona', 'Barcelona')]"
      ]
     },
     "execution_count": 229,
     "metadata": {},
     "output_type": "execute_result"
    }
   ],
   "source": [
    "h = [n['home_team']['home_team_name'] for n in matches]\n",
    "a = [n['away_team']['away_team_name'] for n in matches]\n",
    "\n",
    "teams_list = list(zip(h, a))\n",
    "teams_list[:10]"
   ]
  },
  {
   "cell_type": "code",
   "execution_count": 231,
   "metadata": {},
   "outputs": [
    {
     "name": "stdout",
     "output_type": "stream",
     "text": [
      "Barcelona are in 100.0% of the fixtures\n"
     ]
    }
   ],
   "source": [
    "count = 0\n",
    "\n",
    "for pair in teams_list: \n",
    "    if 'Barcelona' in pair: \n",
    "        count += 1\n",
    "        \n",
    "barca_matches_perc = round(count / len(matches), 4) * 100\n",
    "\n",
    "print(f'Barcelona are in {barca_matches_perc}% of the fixtures')"
   ]
  },
  {
   "cell_type": "markdown",
   "metadata": {},
   "source": [
    "Some of the variables will need to be encoded in some fashion. The `kick_offs` variable is a numeric variable, but it could also be separated into one-hot encoded groups. Firstly, its useful to see what the distribution of matches is in terms of the kick off times.\n",
    "\n",
    "The idea behind this decision is to see whether the time of the kick off has an influence on whether the home team wins or not. "
   ]
  },
  {
   "cell_type": "code",
   "execution_count": 237,
   "metadata": {},
   "outputs": [
    {
     "data": {
      "image/png": "[encoded data removed]",
      "text/plain": [
       "<Figure size 1152x504 with 1 Axes>"
      ]
     },
     "metadata": {
      "needs_background": "light"
     },
     "output_type": "display_data"
    }
   ],
   "source": [
    "matches_df['kick_offs'].sort_values().hist(figsize = (16,7))\n",
    "plt.grid(None)\n",
    "plt.xlabel('Kick Off Times')\n",
    "plt.ylabel('Count')\n",
    "plt.title('Histogram of Kick Off Times', fontsize = 15)\n",
    "plt.xticks(rotation = 45);"
   ]
  },
  {
   "cell_type": "markdown",
   "metadata": {},
   "source": [
    "Its decided to split the kick off times into 3 groups:\n",
    "\n",
    "- Early Kick Offs before 6pm\n",
    "- Mid Kick Offs between 6pm and 8pm\n",
    "- Late Kick Off after 8pm"
   ]
  },
  {
   "cell_type": "code",
   "execution_count": 243,
   "metadata": {},
   "outputs": [
    {
     "data": {
      "text/html": [
       "<div>\n",
       "<style scoped>\n",
       "    .dataframe tbody tr th:only-of-type {\n",
       "        vertical-align: middle;\n",
       "    }\n",
       "\n",
       "    .dataframe tbody tr th {\n",
       "        vertical-align: top;\n",
       "    }\n",
       "\n",
       "    .dataframe thead th {\n",
       "        text-align: right;\n",
       "    }\n",
       "</style>\n",
       "<table border=\"1\" class=\"dataframe\">\n",
       "  <thead>\n",
       "    <tr style=\"text-align: right;\">\n",
       "      <th></th>\n",
       "      <th>match_dates</th>\n",
       "      <th>season_names</th>\n",
       "      <th>home_teams</th>\n",
       "      <th>away_teams</th>\n",
       "      <th>home_scores</th>\n",
       "      <th>away_scores</th>\n",
       "      <th>match_weeks</th>\n",
       "      <th>home_team_wins</th>\n",
       "      <th>early_ko</th>\n",
       "      <th>mid_ko</th>\n",
       "      <th>late_ko</th>\n",
       "    </tr>\n",
       "  </thead>\n",
       "  <tbody>\n",
       "    <tr>\n",
       "      <td>68353</td>\n",
       "      <td>2004-10-16</td>\n",
       "      <td>37</td>\n",
       "      <td>214</td>\n",
       "      <td>217</td>\n",
       "      <td>0</td>\n",
       "      <td>1</td>\n",
       "      <td>7</td>\n",
       "      <td>0</td>\n",
       "      <td>0</td>\n",
       "      <td>0</td>\n",
       "      <td>1</td>\n",
       "    </tr>\n",
       "    <tr>\n",
       "      <td>68313</td>\n",
       "      <td>2004-10-24</td>\n",
       "      <td>37</td>\n",
       "      <td>217</td>\n",
       "      <td>422</td>\n",
       "      <td>3</td>\n",
       "      <td>0</td>\n",
       "      <td>8</td>\n",
       "      <td>1</td>\n",
       "      <td>0</td>\n",
       "      <td>0</td>\n",
       "      <td>1</td>\n",
       "    </tr>\n",
       "    <tr>\n",
       "      <td>68314</td>\n",
       "      <td>2004-12-04</td>\n",
       "      <td>37</td>\n",
       "      <td>217</td>\n",
       "      <td>223</td>\n",
       "      <td>4</td>\n",
       "      <td>0</td>\n",
       "      <td>14</td>\n",
       "      <td>1</td>\n",
       "      <td>0</td>\n",
       "      <td>1</td>\n",
       "      <td>0</td>\n",
       "    </tr>\n",
       "    <tr>\n",
       "      <td>69153</td>\n",
       "      <td>2004-12-11</td>\n",
       "      <td>37</td>\n",
       "      <td>608</td>\n",
       "      <td>217</td>\n",
       "      <td>1</td>\n",
       "      <td>2</td>\n",
       "      <td>15</td>\n",
       "      <td>0</td>\n",
       "      <td>0</td>\n",
       "      <td>1</td>\n",
       "      <td>0</td>\n",
       "    </tr>\n",
       "    <tr>\n",
       "      <td>68315</td>\n",
       "      <td>2004-12-21</td>\n",
       "      <td>37</td>\n",
       "      <td>217</td>\n",
       "      <td>221</td>\n",
       "      <td>2</td>\n",
       "      <td>1</td>\n",
       "      <td>17</td>\n",
       "      <td>1</td>\n",
       "      <td>0</td>\n",
       "      <td>1</td>\n",
       "      <td>0</td>\n",
       "    </tr>\n",
       "    <tr>\n",
       "      <td>...</td>\n",
       "      <td>...</td>\n",
       "      <td>...</td>\n",
       "      <td>...</td>\n",
       "      <td>...</td>\n",
       "      <td>...</td>\n",
       "      <td>...</td>\n",
       "      <td>...</td>\n",
       "      <td>...</td>\n",
       "      <td>...</td>\n",
       "      <td>...</td>\n",
       "      <td>...</td>\n",
       "    </tr>\n",
       "    <tr>\n",
       "      <td>303725</td>\n",
       "      <td>2020-07-05</td>\n",
       "      <td>42</td>\n",
       "      <td>222</td>\n",
       "      <td>217</td>\n",
       "      <td>1</td>\n",
       "      <td>4</td>\n",
       "      <td>34</td>\n",
       "      <td>0</td>\n",
       "      <td>0</td>\n",
       "      <td>0</td>\n",
       "      <td>1</td>\n",
       "    </tr>\n",
       "    <tr>\n",
       "      <td>303615</td>\n",
       "      <td>2020-07-08</td>\n",
       "      <td>42</td>\n",
       "      <td>217</td>\n",
       "      <td>214</td>\n",
       "      <td>1</td>\n",
       "      <td>0</td>\n",
       "      <td>35</td>\n",
       "      <td>1</td>\n",
       "      <td>0</td>\n",
       "      <td>0</td>\n",
       "      <td>1</td>\n",
       "    </tr>\n",
       "    <tr>\n",
       "      <td>303680</td>\n",
       "      <td>2020-07-11</td>\n",
       "      <td>42</td>\n",
       "      <td>901</td>\n",
       "      <td>217</td>\n",
       "      <td>0</td>\n",
       "      <td>1</td>\n",
       "      <td>36</td>\n",
       "      <td>0</td>\n",
       "      <td>0</td>\n",
       "      <td>1</td>\n",
       "      <td>0</td>\n",
       "    </tr>\n",
       "    <tr>\n",
       "      <td>303634</td>\n",
       "      <td>2020-07-16</td>\n",
       "      <td>42</td>\n",
       "      <td>217</td>\n",
       "      <td>422</td>\n",
       "      <td>1</td>\n",
       "      <td>2</td>\n",
       "      <td>37</td>\n",
       "      <td>0</td>\n",
       "      <td>0</td>\n",
       "      <td>0</td>\n",
       "      <td>1</td>\n",
       "    </tr>\n",
       "    <tr>\n",
       "      <td>303421</td>\n",
       "      <td>2020-07-19</td>\n",
       "      <td>42</td>\n",
       "      <td>206</td>\n",
       "      <td>217</td>\n",
       "      <td>0</td>\n",
       "      <td>5</td>\n",
       "      <td>38</td>\n",
       "      <td>0</td>\n",
       "      <td>1</td>\n",
       "      <td>0</td>\n",
       "      <td>0</td>\n",
       "    </tr>\n",
       "  </tbody>\n",
       "</table>\n",
       "<p>485 rows × 11 columns</p>\n",
       "</div>"
      ],
      "text/plain": [
       "       match_dates  season_names  home_teams  away_teams  home_scores  \\\n",
       "68353   2004-10-16            37         214         217            0   \n",
       "68313   2004-10-24            37         217         422            3   \n",
       "68314   2004-12-04            37         217         223            4   \n",
       "69153   2004-12-11            37         608         217            1   \n",
       "68315   2004-12-21            37         217         221            2   \n",
       "...            ...           ...         ...         ...          ...   \n",
       "303725  2020-07-05            42         222         217            1   \n",
       "303615  2020-07-08            42         217         214            1   \n",
       "303680  2020-07-11            42         901         217            0   \n",
       "303634  2020-07-16            42         217         422            1   \n",
       "303421  2020-07-19            42         206         217            0   \n",
       "\n",
       "        away_scores  match_weeks  home_team_wins  early_ko  mid_ko  late_ko  \n",
       "68353             1            7               0         0       0        1  \n",
       "68313             0            8               1         0       0        1  \n",
       "68314             0           14               1         0       1        0  \n",
       "69153             2           15               0         0       1        0  \n",
       "68315             1           17               1         0       1        0  \n",
       "...             ...          ...             ...       ...     ...      ...  \n",
       "303725            4           34               0         0       0        1  \n",
       "303615            0           35               1         0       0        1  \n",
       "303680            1           36               0         0       1        0  \n",
       "303634            2           37               0         0       0        1  \n",
       "303421            5           38               0         1       0        0  \n",
       "\n",
       "[485 rows x 11 columns]"
      ]
     },
     "execution_count": 243,
     "metadata": {},
     "output_type": "execute_result"
    }
   ],
   "source": [
    "kos = np.array([int(n.split(':')[0]) for n in matches_df['kick_offs']])\n",
    "\n",
    "matches_df['early_ko'] = (kos <= 18).astype(int)\n",
    "matches_df['mid_ko'] = ((kos <= 20 )& (kos > 18)).astype(int)\n",
    "matches_df['late_ko'] = (kos > 20).astype(int)\n",
    "\n",
    "matches_df = matches_df.drop('kick_offs', axis = 1)\n",
    "matches_df"
   ]
  },
  {
   "cell_type": "markdown",
   "metadata": {},
   "source": [
    "It was also decided to split out the dates into `year`, `month` and `day` variables to identify any relationships between the home team winning and the time of year etc. For example, do the home teams perform better in the latter part of the season? The `weekdays` variable was also created to see if midweek games have any influence on whether the home team wins or not. "
   ]
  },
  {
   "cell_type": "code",
   "execution_count": 244,
   "metadata": {},
   "outputs": [
    {
     "data": {
      "text/plain": [
       "str"
      ]
     },
     "execution_count": 244,
     "metadata": {},
     "output_type": "execute_result"
    }
   ],
   "source": [
    "type(matches_df['match_dates'].values[0])"
   ]
  },
  {
   "cell_type": "code",
   "execution_count": 245,
   "metadata": {},
   "outputs": [
    {
     "data": {
      "text/html": [
       "<div>\n",
       "<style scoped>\n",
       "    .dataframe tbody tr th:only-of-type {\n",
       "        vertical-align: middle;\n",
       "    }\n",
       "\n",
       "    .dataframe tbody tr th {\n",
       "        vertical-align: top;\n",
       "    }\n",
       "\n",
       "    .dataframe thead th {\n",
       "        text-align: right;\n",
       "    }\n",
       "</style>\n",
       "<table border=\"1\" class=\"dataframe\">\n",
       "  <thead>\n",
       "    <tr style=\"text-align: right;\">\n",
       "      <th></th>\n",
       "      <th>season_names</th>\n",
       "      <th>home_teams</th>\n",
       "      <th>away_teams</th>\n",
       "      <th>home_scores</th>\n",
       "      <th>away_scores</th>\n",
       "      <th>match_weeks</th>\n",
       "      <th>home_team_wins</th>\n",
       "      <th>early_ko</th>\n",
       "      <th>mid_ko</th>\n",
       "      <th>late_ko</th>\n",
       "      <th>weekdays</th>\n",
       "      <th>year</th>\n",
       "      <th>month</th>\n",
       "      <th>day</th>\n",
       "    </tr>\n",
       "  </thead>\n",
       "  <tbody>\n",
       "    <tr>\n",
       "      <td>68353</td>\n",
       "      <td>37</td>\n",
       "      <td>214</td>\n",
       "      <td>217</td>\n",
       "      <td>0</td>\n",
       "      <td>1</td>\n",
       "      <td>7</td>\n",
       "      <td>0</td>\n",
       "      <td>0</td>\n",
       "      <td>0</td>\n",
       "      <td>1</td>\n",
       "      <td>5</td>\n",
       "      <td>2004</td>\n",
       "      <td>10</td>\n",
       "      <td>16</td>\n",
       "    </tr>\n",
       "    <tr>\n",
       "      <td>68313</td>\n",
       "      <td>37</td>\n",
       "      <td>217</td>\n",
       "      <td>422</td>\n",
       "      <td>3</td>\n",
       "      <td>0</td>\n",
       "      <td>8</td>\n",
       "      <td>1</td>\n",
       "      <td>0</td>\n",
       "      <td>0</td>\n",
       "      <td>1</td>\n",
       "      <td>6</td>\n",
       "      <td>2004</td>\n",
       "      <td>10</td>\n",
       "      <td>24</td>\n",
       "    </tr>\n",
       "    <tr>\n",
       "      <td>68314</td>\n",
       "      <td>37</td>\n",
       "      <td>217</td>\n",
       "      <td>223</td>\n",
       "      <td>4</td>\n",
       "      <td>0</td>\n",
       "      <td>14</td>\n",
       "      <td>1</td>\n",
       "      <td>0</td>\n",
       "      <td>1</td>\n",
       "      <td>0</td>\n",
       "      <td>5</td>\n",
       "      <td>2004</td>\n",
       "      <td>12</td>\n",
       "      <td>4</td>\n",
       "    </tr>\n",
       "    <tr>\n",
       "      <td>69153</td>\n",
       "      <td>37</td>\n",
       "      <td>608</td>\n",
       "      <td>217</td>\n",
       "      <td>1</td>\n",
       "      <td>2</td>\n",
       "      <td>15</td>\n",
       "      <td>0</td>\n",
       "      <td>0</td>\n",
       "      <td>1</td>\n",
       "      <td>0</td>\n",
       "      <td>5</td>\n",
       "      <td>2004</td>\n",
       "      <td>12</td>\n",
       "      <td>11</td>\n",
       "    </tr>\n",
       "    <tr>\n",
       "      <td>68315</td>\n",
       "      <td>37</td>\n",
       "      <td>217</td>\n",
       "      <td>221</td>\n",
       "      <td>2</td>\n",
       "      <td>1</td>\n",
       "      <td>17</td>\n",
       "      <td>1</td>\n",
       "      <td>0</td>\n",
       "      <td>1</td>\n",
       "      <td>0</td>\n",
       "      <td>1</td>\n",
       "      <td>2004</td>\n",
       "      <td>12</td>\n",
       "      <td>21</td>\n",
       "    </tr>\n",
       "    <tr>\n",
       "      <td>...</td>\n",
       "      <td>...</td>\n",
       "      <td>...</td>\n",
       "      <td>...</td>\n",
       "      <td>...</td>\n",
       "      <td>...</td>\n",
       "      <td>...</td>\n",
       "      <td>...</td>\n",
       "      <td>...</td>\n",
       "      <td>...</td>\n",
       "      <td>...</td>\n",
       "      <td>...</td>\n",
       "      <td>...</td>\n",
       "      <td>...</td>\n",
       "      <td>...</td>\n",
       "    </tr>\n",
       "    <tr>\n",
       "      <td>303725</td>\n",
       "      <td>42</td>\n",
       "      <td>222</td>\n",
       "      <td>217</td>\n",
       "      <td>1</td>\n",
       "      <td>4</td>\n",
       "      <td>34</td>\n",
       "      <td>0</td>\n",
       "      <td>0</td>\n",
       "      <td>0</td>\n",
       "      <td>1</td>\n",
       "      <td>6</td>\n",
       "      <td>2020</td>\n",
       "      <td>7</td>\n",
       "      <td>5</td>\n",
       "    </tr>\n",
       "    <tr>\n",
       "      <td>303615</td>\n",
       "      <td>42</td>\n",
       "      <td>217</td>\n",
       "      <td>214</td>\n",
       "      <td>1</td>\n",
       "      <td>0</td>\n",
       "      <td>35</td>\n",
       "      <td>1</td>\n",
       "      <td>0</td>\n",
       "      <td>0</td>\n",
       "      <td>1</td>\n",
       "      <td>2</td>\n",
       "      <td>2020</td>\n",
       "      <td>7</td>\n",
       "      <td>8</td>\n",
       "    </tr>\n",
       "    <tr>\n",
       "      <td>303680</td>\n",
       "      <td>42</td>\n",
       "      <td>901</td>\n",
       "      <td>217</td>\n",
       "      <td>0</td>\n",
       "      <td>1</td>\n",
       "      <td>36</td>\n",
       "      <td>0</td>\n",
       "      <td>0</td>\n",
       "      <td>1</td>\n",
       "      <td>0</td>\n",
       "      <td>5</td>\n",
       "      <td>2020</td>\n",
       "      <td>7</td>\n",
       "      <td>11</td>\n",
       "    </tr>\n",
       "    <tr>\n",
       "      <td>303634</td>\n",
       "      <td>42</td>\n",
       "      <td>217</td>\n",
       "      <td>422</td>\n",
       "      <td>1</td>\n",
       "      <td>2</td>\n",
       "      <td>37</td>\n",
       "      <td>0</td>\n",
       "      <td>0</td>\n",
       "      <td>0</td>\n",
       "      <td>1</td>\n",
       "      <td>3</td>\n",
       "      <td>2020</td>\n",
       "      <td>7</td>\n",
       "      <td>16</td>\n",
       "    </tr>\n",
       "    <tr>\n",
       "      <td>303421</td>\n",
       "      <td>42</td>\n",
       "      <td>206</td>\n",
       "      <td>217</td>\n",
       "      <td>0</td>\n",
       "      <td>5</td>\n",
       "      <td>38</td>\n",
       "      <td>0</td>\n",
       "      <td>1</td>\n",
       "      <td>0</td>\n",
       "      <td>0</td>\n",
       "      <td>6</td>\n",
       "      <td>2020</td>\n",
       "      <td>7</td>\n",
       "      <td>19</td>\n",
       "    </tr>\n",
       "  </tbody>\n",
       "</table>\n",
       "<p>485 rows × 14 columns</p>\n",
       "</div>"
      ],
      "text/plain": [
       "        season_names  home_teams  away_teams  home_scores  away_scores  \\\n",
       "68353             37         214         217            0            1   \n",
       "68313             37         217         422            3            0   \n",
       "68314             37         217         223            4            0   \n",
       "69153             37         608         217            1            2   \n",
       "68315             37         217         221            2            1   \n",
       "...              ...         ...         ...          ...          ...   \n",
       "303725            42         222         217            1            4   \n",
       "303615            42         217         214            1            0   \n",
       "303680            42         901         217            0            1   \n",
       "303634            42         217         422            1            2   \n",
       "303421            42         206         217            0            5   \n",
       "\n",
       "        match_weeks  home_team_wins  early_ko  mid_ko  late_ko  weekdays  \\\n",
       "68353             7               0         0       0        1         5   \n",
       "68313             8               1         0       0        1         6   \n",
       "68314            14               1         0       1        0         5   \n",
       "69153            15               0         0       1        0         5   \n",
       "68315            17               1         0       1        0         1   \n",
       "...             ...             ...       ...     ...      ...       ...   \n",
       "303725           34               0         0       0        1         6   \n",
       "303615           35               1         0       0        1         2   \n",
       "303680           36               0         0       1        0         5   \n",
       "303634           37               0         0       0        1         3   \n",
       "303421           38               0         1       0        0         6   \n",
       "\n",
       "        year  month  day  \n",
       "68353   2004     10   16  \n",
       "68313   2004     10   24  \n",
       "68314   2004     12    4  \n",
       "69153   2004     12   11  \n",
       "68315   2004     12   21  \n",
       "...      ...    ...  ...  \n",
       "303725  2020      7    5  \n",
       "303615  2020      7    8  \n",
       "303680  2020      7   11  \n",
       "303634  2020      7   16  \n",
       "303421  2020      7   19  \n",
       "\n",
       "[485 rows x 14 columns]"
      ]
     },
     "execution_count": 245,
     "metadata": {},
     "output_type": "execute_result"
    }
   ],
   "source": [
    "# Monday is 0 and Sunday is 6\n",
    "\n",
    "matches_df['weekdays'] = [datetime.strptime(n, '%Y-%m-%d').weekday() for n in matches_df['match_dates']]\n",
    "matches_df['year'] = [datetime.strptime(n, '%Y-%m-%d').year for n in matches_df['match_dates']]\n",
    "matches_df['month'] = [datetime.strptime(n, '%Y-%m-%d').month for n in matches_df['match_dates']]\n",
    "matches_df['day'] = [datetime.strptime(n, '%Y-%m-%d').day for n in matches_df['match_dates']]\n",
    "\n",
    "matches_df = matches_df.drop('match_dates', axis = 1)\n",
    "matches_df"
   ]
  },
  {
   "cell_type": "markdown",
   "metadata": {},
   "source": [
    "A final look at the distributions is useful.\n",
    "\n",
    "For `home_team_wins` there is an even split between the outcomes which is helpful. It reduces the impact minority values can have on the analysis. \n",
    "\n",
    "For `away_scores` and `home_scores` there is a tendency for low values which is not surprising. Interestingly, the most frequent value for `away_scores` is 0 and for `home_scores` it appears to be 1 or 2. This is some intial evidence that the home team tends to score more goals. \n",
    "\n",
    "`home_teams`, `away_teams`, `season_names` are id numbers with no logical distributions so no real inference can be made from their distributions.\n",
    "\n",
    "Most games in the sample appear to be played at the weekend, so its unclear whether there are enough weekday games for any modelling to identify any relationships. \n",
    "\n",
    "`month` shows that there are more games in the sample that were played in the winter months. While there does tend to be a summer break between football seasons, there appears to be a slight inbalance in the data. This could cause prediction errors when using any trained model on unseen data as the model is trained with more winter games. \n",
    "\n",
    "Ideally, more samples from the spring and autumn months would be collected. Another option is to remove some of the matches from the winter months. For the purposes of the analysis, no modifications will be made due to the already small sample size. Caution when using the model on out of sample data is noted."
   ]
  },
  {
   "cell_type": "code",
   "execution_count": 252,
   "metadata": {},
   "outputs": [
    {
     "data": {
      "image/png": "[encoded data removed]",
      "text/plain": [
       "<Figure size 1152x720 with 16 Axes>"
      ]
     },
     "metadata": {
      "needs_background": "light"
     },
     "output_type": "display_data"
    }
   ],
   "source": [
    "for col in matches_df.columns: \n",
    "    matches_df[col] = matches_df[col].astype(int)\n",
    "    \n",
    "matches_df.hist(figsize = (16, 10));"
   ]
  },
  {
   "cell_type": "markdown",
   "metadata": {},
   "source": [
    "## Splitting the data\n",
    "\n",
    "Next the data is split between input and target variables, and also between training and test data. The model is trained on the training data and then tested on the unseen test data to determine the models predictive ability. "
   ]
  },
  {
   "cell_type": "code",
   "execution_count": 265,
   "metadata": {},
   "outputs": [],
   "source": [
    "target = 'home_team_wins'\n",
    "features = matches_df.drop(target, axis = 1).columns\n",
    "X = matches_df.drop(target, axis = 1).values\n",
    "y = matches_df[target].values\n",
    "\n",
    "X_train, X_test, y_train, y_test = train_test_split(X, y, test_size=0.2, random_state=0)"
   ]
  },
  {
   "cell_type": "code",
   "execution_count": 254,
   "metadata": {},
   "outputs": [
    {
     "data": {
      "text/plain": [
       "Index(['season_names', 'home_teams', 'away_teams', 'home_scores',\n",
       "       'away_scores', 'match_weeks', 'early_ko', 'mid_ko', 'late_ko',\n",
       "       'weekdays', 'year', 'month', 'day'],\n",
       "      dtype='object')"
      ]
     },
     "execution_count": 254,
     "metadata": {},
     "output_type": "execute_result"
    }
   ],
   "source": [
    "features"
   ]
  },
  {
   "cell_type": "code",
   "execution_count": 255,
   "metadata": {},
   "outputs": [
    {
     "data": {
      "text/plain": [
       "((388, 13), (97, 13), (388,), (97,))"
      ]
     },
     "execution_count": 255,
     "metadata": {},
     "output_type": "execute_result"
    }
   ],
   "source": [
    "X_train.shape, X_test.shape, y_train.shape, y_test.shape"
   ]
  },
  {
   "cell_type": "markdown",
   "metadata": {},
   "source": [
    "## Scaling the data\n",
    "\n",
    "To ensure model stability, the input variables are scaled. "
   ]
  },
  {
   "cell_type": "code",
   "execution_count": 256,
   "metadata": {},
   "outputs": [],
   "source": [
    "scaler = MinMaxScaler()\n",
    "\n",
    "scaler.fit(X_train)\n",
    "scaled_X_train = scaler.transform(X_train) # each column ranges from 0 to 1\n",
    "scaled_X_test = scaler.transform(X_test)"
   ]
  },
  {
   "cell_type": "markdown",
   "metadata": {},
   "source": [
    "## Logistic Regression\n",
    "\n",
    "It is not always necessary to use the most complex deep learning models for prediction. Sometimes, less complex models can perform well. The added bonus is that less complex models are often easier to interpret. \n",
    "\n",
    "L2 regularisation is applied to add a penalty to the loss function while the model is training. Overly complex models are penalised meaning that only the most informationally important variables are identified. Smaller `C` values will enforce more regularisation, making some variables close weighting close to 0. A value of 1 is applied. \n",
    "\n",
    "The 'liblinear' optimiser is a suitable choice for training small datasets. "
   ]
  },
  {
   "cell_type": "code",
   "execution_count": 257,
   "metadata": {},
   "outputs": [],
   "source": [
    "logistic_model = LogisticRegression(\n",
    "    penalty = 'l2', \n",
    "    C = 1.0, # regularisation strength\n",
    "    solver = 'liblinear', # works well on small datasets\n",
    ").fit(scaled_X_train, y_train)"
   ]
  },
  {
   "cell_type": "markdown",
   "metadata": {},
   "source": [
    "__The most important variables are given below.__\n",
    "\n",
    "Its interesting to see the `weekdays` variable is ranked most important, given the initial thoughts on the smaller frequency of weekday matches in the sample. A follow up on this finding would be to identify the games played during the week and inspecting whether there is a noticable trend in the home team winning or losing. \n",
    "\n",
    "Unsurprisingly, the `home_scores` variable is important. But strangely, the `away_scores` is less importantant. \n",
    "\n",
    "The kick-off time appears to have little impact. \n",
    "\n",
    "The `away_teams` variable is also important, suggesting a weaker opponent may increase the probability of a home team victory. "
   ]
  },
  {
   "cell_type": "code",
   "execution_count": 266,
   "metadata": {},
   "outputs": [
    {
     "data": {
      "text/plain": [
       "array([10,  3,  4,  1,  2, 12,  6, 13, 11,  9,  7,  5,  8])"
      ]
     },
     "execution_count": 266,
     "metadata": {},
     "output_type": "execute_result"
    }
   ],
   "source": [
    "selector = RFE(logistic_model, n_features_to_select = 1)\n",
    "selector.fit(scaled_X_train, y_train)\n",
    "order = selector.ranking_\n",
    "order"
   ]
  },
  {
   "cell_type": "code",
   "execution_count": 267,
   "metadata": {},
   "outputs": [
    {
     "data": {
      "text/plain": [
       "['10 - weekdays',\n",
       " '3 - away_teams',\n",
       " '4 - home_scores',\n",
       " '1 - season_names',\n",
       " '2 - home_teams',\n",
       " '12 - month',\n",
       " '6 - match_weeks',\n",
       " '13 - day',\n",
       " '11 - year',\n",
       " '9 - late_ko',\n",
       " '7 - early_ko',\n",
       " '5 - away_scores',\n",
       " '8 - mid_ko']"
      ]
     },
     "execution_count": 267,
     "metadata": {},
     "output_type": "execute_result"
    }
   ],
   "source": [
    "feature_ranks = [f'{i} - {features[i-1]}' for i in order]\n",
    "feature_ranks"
   ]
  },
  {
   "cell_type": "markdown",
   "metadata": {},
   "source": [
    "## Predictions\n",
    "\n",
    "The trained model is then used to predict the outcomes of the matches contained in the unseen dataset of `scaled_X_test`"
   ]
  },
  {
   "cell_type": "code",
   "execution_count": 261,
   "metadata": {},
   "outputs": [],
   "source": [
    "y_pred = logistic_model.predict(scaled_X_test)"
   ]
  },
  {
   "cell_type": "code",
   "execution_count": 262,
   "metadata": {},
   "outputs": [
    {
     "data": {
      "text/html": [
       "<div>\n",
       "<style scoped>\n",
       "    .dataframe tbody tr th:only-of-type {\n",
       "        vertical-align: middle;\n",
       "    }\n",
       "\n",
       "    .dataframe tbody tr th {\n",
       "        vertical-align: top;\n",
       "    }\n",
       "\n",
       "    .dataframe thead th {\n",
       "        text-align: right;\n",
       "    }\n",
       "</style>\n",
       "<table border=\"1\" class=\"dataframe\">\n",
       "  <thead>\n",
       "    <tr style=\"text-align: right;\">\n",
       "      <th></th>\n",
       "      <th>Actual</th>\n",
       "      <th>Predicted</th>\n",
       "    </tr>\n",
       "  </thead>\n",
       "  <tbody>\n",
       "    <tr>\n",
       "      <td>0</td>\n",
       "      <td>0</td>\n",
       "      <td>0</td>\n",
       "    </tr>\n",
       "    <tr>\n",
       "      <td>1</td>\n",
       "      <td>1</td>\n",
       "      <td>1</td>\n",
       "    </tr>\n",
       "    <tr>\n",
       "      <td>2</td>\n",
       "      <td>0</td>\n",
       "      <td>0</td>\n",
       "    </tr>\n",
       "    <tr>\n",
       "      <td>3</td>\n",
       "      <td>1</td>\n",
       "      <td>1</td>\n",
       "    </tr>\n",
       "    <tr>\n",
       "      <td>4</td>\n",
       "      <td>1</td>\n",
       "      <td>1</td>\n",
       "    </tr>\n",
       "    <tr>\n",
       "      <td>...</td>\n",
       "      <td>...</td>\n",
       "      <td>...</td>\n",
       "    </tr>\n",
       "    <tr>\n",
       "      <td>92</td>\n",
       "      <td>0</td>\n",
       "      <td>0</td>\n",
       "    </tr>\n",
       "    <tr>\n",
       "      <td>93</td>\n",
       "      <td>0</td>\n",
       "      <td>0</td>\n",
       "    </tr>\n",
       "    <tr>\n",
       "      <td>94</td>\n",
       "      <td>0</td>\n",
       "      <td>0</td>\n",
       "    </tr>\n",
       "    <tr>\n",
       "      <td>95</td>\n",
       "      <td>0</td>\n",
       "      <td>0</td>\n",
       "    </tr>\n",
       "    <tr>\n",
       "      <td>96</td>\n",
       "      <td>1</td>\n",
       "      <td>1</td>\n",
       "    </tr>\n",
       "  </tbody>\n",
       "</table>\n",
       "<p>97 rows × 2 columns</p>\n",
       "</div>"
      ],
      "text/plain": [
       "    Actual  Predicted\n",
       "0        0          0\n",
       "1        1          1\n",
       "2        0          0\n",
       "3        1          1\n",
       "4        1          1\n",
       "..     ...        ...\n",
       "92       0          0\n",
       "93       0          0\n",
       "94       0          0\n",
       "95       0          0\n",
       "96       1          1\n",
       "\n",
       "[97 rows x 2 columns]"
      ]
     },
     "execution_count": 262,
     "metadata": {},
     "output_type": "execute_result"
    }
   ],
   "source": [
    "pred_results = pd.DataFrame({'Actual': y_test, 'Predicted': y_pred})\n",
    "pred_results"
   ]
  },
  {
   "cell_type": "code",
   "execution_count": 263,
   "metadata": {},
   "outputs": [
    {
     "data": {
      "text/plain": [
       "array([[45,  0],\n",
       "       [ 2, 50]])"
      ]
     },
     "execution_count": 263,
     "metadata": {},
     "output_type": "execute_result"
    }
   ],
   "source": [
    "confusion_matrix(y_test, y_pred)"
   ]
  },
  {
   "cell_type": "code",
   "execution_count": 264,
   "metadata": {},
   "outputs": [
    {
     "name": "stdout",
     "output_type": "stream",
     "text": [
      "Accuracy score: 0.979381443298969\n",
      "Precision score: 1.0\n",
      "Recall score: 0.9615384615384616\n"
     ]
    }
   ],
   "source": [
    "print(f'Accuracy score: {accuracy_score(y_test, y_pred)}')\n",
    "print(f'Precision score: {precision_score(y_test, y_pred)}')\n",
    "print(f'Recall score: {recall_score(y_test, y_pred)}')"
   ]
  },
  {
   "cell_type": "markdown",
   "metadata": {},
   "source": [
    "## Results & Analysis"
   ]
  },
  {
   "cell_type": "markdown",
   "metadata": {},
   "source": [
    "It appears that the logistic regression does a very good job at predicting whether or not the home team will win. Given the high accuracy score of 97.9%, there is not much to be gained from using a more complex modelling technique such as a neural networks. \n",
    "\n",
    "For future study, a complete dataset would be useful. Barcelona are one of the best teams in the world and its possible the model is simply identifying if Barcelona are the home or away team and determining the result based on that information. \n",
    "\n",
    "More spring and autumn fixtures may lead to different results. For example, if Barcelona are playing in the later stages of the Champions League in the spring, their La Liga matches may show a slight increase in losses as the focus would be on winning the Champions League. \n",
    "\n",
    "Testing the model in different leagues would be interesting to see if the same dynamics present in La Liga are common to other competitions. \n",
    "\n",
    "Overall, the model performance is impressive for the humble logistic regression model. Sometimes simplicity > complexity. "
   ]
  }
 ],
 "metadata": {
  "kernelspec": {
   "display_name": "Python 3",
   "language": "python",
   "name": "python3"
  },
  "language_info": {
   "codemirror_mode": {
    "name": "ipython",
    "version": 3
   },
   "file_extension": ".py",
   "mimetype": "text/x-python",
   "name": "python",
   "nbconvert_exporter": "python",
   "pygments_lexer": "ipython3",
   "version": "3.7.6"
  }
 },
 "nbformat": 4,
 "nbformat_minor": 4
}
